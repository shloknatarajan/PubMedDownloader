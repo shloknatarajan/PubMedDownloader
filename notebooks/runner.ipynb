{
 "cells": [
  {
   "cell_type": "code",
   "execution_count": 1,
   "metadata": {},
   "outputs": [
    {
     "name": "stdout",
     "output_type": "stream",
     "text": [
      "/Users/shloknatarajan/stanford/research/daneshjou/PubMedDownloader\n"
     ]
    }
   ],
   "source": [
    "# Notebook Setup\n",
    "# Run this cell: \n",
    "# The lines below will instruct jupyter to reload imported modules before \n",
    "# executing code cells. This enables you to quickly iterate and test revisions\n",
    "# to your code without having to restart the kernel and reload all of your \n",
    "# modules each time you make a code change in a separate python file.\n",
    "\n",
    "%load_ext autoreload\n",
    "%autoreload 2\n",
    "\n",
    "import os\n",
    "\n",
    "# Change path to project root\n",
    "if os.getcwd().endswith(\"notebooks\"):\n",
    "    os.chdir(os.path.dirname(os.getcwd()))\n",
    "print(os.getcwd())"
   ]
  },
  {
   "cell_type": "code",
   "execution_count": 2,
   "metadata": {},
   "outputs": [],
   "source": [
    "import pandas as pd"
   ]
  },
  {
   "cell_type": "code",
   "execution_count": 3,
   "metadata": {},
   "outputs": [
    {
     "name": "stdout",
     "output_type": "stream",
     "text": [
      "['18982321', '22935916', '26332308', '21441248', '28063968', '12893984', '22950382', '12695469', '25493569', '33944612']\n"
     ]
    }
   ],
   "source": [
    "pmids = []\n",
    "with open('data/all_pmids.txt', 'r') as f:\n",
    "    for line in f.readlines():\n",
    "        pmids.append(line.strip())\n",
    "print(pmids[0:10])"
   ]
  },
  {
   "cell_type": "code",
   "execution_count": 4,
   "metadata": {},
   "outputs": [],
   "source": [
    "from src.pubmed_downloader import PubMedDownloader"
   ]
  },
  {
   "cell_type": "code",
   "execution_count": 5,
   "metadata": {},
   "outputs": [],
   "source": [
    "converter = PubMedDownloader()"
   ]
  },
  {
   "cell_type": "code",
   "execution_count": null,
   "metadata": {},
   "outputs": [
    {
     "name": "stderr",
     "output_type": "stream",
     "text": [
      "\u001b[32m2025-10-02 16:51:02.854\u001b[0m | \u001b[1mINFO    \u001b[0m | \u001b[36msrc.pubmed_downloader\u001b[0m:\u001b[36mpmids_to_pmcids\u001b[0m:\u001b[36m147\u001b[0m - \u001b[1mGetting PMCIDs for 8817 PMIDs\u001b[0m\n",
      "\u001b[32m2025-10-02 16:51:02.856\u001b[0m | \u001b[1mINFO    \u001b[0m | \u001b[36msrc.pmcid_from_pmid\u001b[0m:\u001b[36mget_pmcid_from_pmid\u001b[0m:\u001b[36m149\u001b[0m - \u001b[1mStarting conversion of 8817 PMIDs to PMCIDs\u001b[0m\n",
      "Converting PMIDs to PMCIDs:   4%|▍         | 2/45 [00:01<00:32,  1.30batch/s]"
     ]
    }
   ],
   "source": [
    "converter.pmids_to_markdown(pmids)"
   ]
  },
  {
   "cell_type": "code",
   "execution_count": null,
   "metadata": {},
   "outputs": [],
   "source": []
  }
 ],
 "metadata": {
  "kernelspec": {
   "display_name": "default",
   "language": "python",
   "name": "python3"
  },
  "language_info": {
   "codemirror_mode": {
    "name": "ipython",
    "version": 3
   },
   "file_extension": ".py",
   "mimetype": "text/x-python",
   "name": "python",
   "nbconvert_exporter": "python",
   "pygments_lexer": "ipython3",
   "version": "3.12.11"
  }
 },
 "nbformat": 4,
 "nbformat_minor": 2
}
