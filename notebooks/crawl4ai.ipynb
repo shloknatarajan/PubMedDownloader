{
 "cells": [
  {
   "cell_type": "code",
   "execution_count": 1,
   "metadata": {},
   "outputs": [
    {
     "name": "stdout",
     "output_type": "stream",
     "text": [
      "/Users/shloknatarajan/stanford/research/daneshjou/PubMedDownloader\n"
     ]
    }
   ],
   "source": [
    "# Notebook Setup\n",
    "# Run this cell: \n",
    "# The lines below will instruct jupyter to reload imported modules before \n",
    "# executing code cells. This enables you to quickly iterate and test revisions\n",
    "# to your code without having to restart the kernel and reload all of your \n",
    "# modules each time you make a code change in a separate python file.\n",
    "\n",
    "%load_ext autoreload\n",
    "%autoreload 2\n",
    "\n",
    "import os\n",
    "\n",
    "# Change path to project root\n",
    "if os.getcwd().endswith(\"notebooks\"):\n",
    "    os.chdir(os.path.dirname(os.getcwd()))\n",
    "print(os.getcwd())"
   ]
  },
  {
   "cell_type": "code",
   "execution_count": 13,
   "metadata": {},
   "outputs": [],
   "source": [
    "def get_url_from_pmcid(pmcid: str) -> str:\n",
    "    \"\"\"\n",
    "    Get the URL from a PMCID.\n",
    "    \"\"\"\n",
    "    return f\"https://www.ncbi.nlm.nih.gov/pmc/articles/{pmcid}/?report=classic\""
   ]
  },
  {
   "cell_type": "code",
   "execution_count": 14,
   "metadata": {},
   "outputs": [],
   "source": [
    "url = get_url_from_pmcid(\"PMC5728543\")"
   ]
  },
  {
   "cell_type": "code",
   "execution_count": 15,
   "metadata": {},
   "outputs": [],
   "source": [
    "import asyncio\n",
    "from crawl4ai import *"
   ]
  },
  {
   "cell_type": "code",
   "execution_count": 16,
   "metadata": {},
   "outputs": [],
   "source": [
    "async def crawl_url(url: str):\n",
    "    async with AsyncWebCrawler() as crawler:\n",
    "        result = await crawler.arun(\n",
    "            url=url,\n",
    "        )\n",
    "    return result"
   ]
  },
  {
   "cell_type": "code",
   "execution_count": 17,
   "metadata": {},
   "outputs": [
    {
     "name": "stdout",
     "output_type": "stream",
     "text": [
      "[LOG] 🚀 Crawl4AI 0.3.73\n",
      "[LOG] 🚀 Crawling done for https://www.ncbi.nlm.nih.gov/pmc/articles/PMC5728543/?report=classic, success: True, time taken: 1.27 seconds\n",
      "[LOG] 🚀 Content extracted for https://www.ncbi.nlm.nih.gov/pmc/articles/PMC5728543/?report=classic, success: True, time taken: 0.09 seconds\n",
      "[LOG] 🔥 Extracting semantic blocks for https://www.ncbi.nlm.nih.gov/pmc/articles/PMC5728543/?report=classic, Strategy: AsyncWebCrawler\n",
      "[LOG] 🚀 Extraction done for https://www.ncbi.nlm.nih.gov/pmc/articles/PMC5728543/?report=classic, time taken: 0.09 seconds.\n"
     ]
    }
   ],
   "source": [
    "result = await crawl_url(url)"
   ]
  },
  {
   "cell_type": "code",
   "execution_count": 18,
   "metadata": {},
   "outputs": [],
   "source": [
    "path = \"data/crawl4ai/PMC5712579.md\"\n",
    "os.makedirs(os.path.dirname(path), exist_ok=True)\n",
    "with open(path, \"w\") as f:\n",
    "    f.write(result.markdown)\n"
   ]
  },
  {
   "cell_type": "code",
   "execution_count": null,
   "metadata": {},
   "outputs": [],
   "source": []
  }
 ],
 "metadata": {
  "kernelspec": {
   "display_name": "default",
   "language": "python",
   "name": "python3"
  },
  "language_info": {
   "codemirror_mode": {
    "name": "ipython",
    "version": 3
   },
   "file_extension": ".py",
   "mimetype": "text/x-python",
   "name": "python",
   "nbconvert_exporter": "python",
   "pygments_lexer": "ipython3",
   "version": "3.12.11"
  }
 },
 "nbformat": 4,
 "nbformat_minor": 2
}
